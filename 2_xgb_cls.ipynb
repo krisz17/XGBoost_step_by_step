{
 "cells": [
  {
   "cell_type": "markdown",
   "id": "2fb00bf6-ec43-422c-aede-8e5f244ec123",
   "metadata": {},
   "source": [
    "Pierwsza część kodu dotycząca oczyszczeniu danych znajduje się w pliku _1_EDA.ipynb_, w którym zostały obrobione dane do budowy modelu klasyfukacji binarnej. Dane są do pobrania z https://www.kaggle.com/c/tabular-playground-series-mar-2021/data"
   ]
  },
  {
   "cell_type": "code",
   "execution_count": 6,
   "id": "b18efca2-7a79-4b0b-aa28-c6c21c425fa9",
   "metadata": {},
   "outputs": [],
   "source": [
    "# https://rukshanpramoditha.medium.com/unlock-the-power-of-xgboost-738536b9f36f\n",
    "# Teraz korzystamy z przygotowanych wcześniej danych, które wczytujemy odpowiednio do tabeli charakterystyk X oraz do tabeli\n",
    "# ze zmienną celu y.\n",
    "\n",
    "import pandas as pd\n",
    "import numpy as np\n",
    "import os \n",
    "\n",
    "data_path = \"E:\\page_ds\\XGBoost_step_by_step\"\n",
    "X = pd.read_csv(os.path.join(data_path, \"x_train.csv\"))\n",
    "y = pd.read_csv(os.path.join(data_path, \"y_train.csv\"))\n"
   ]
  },
  {
   "cell_type": "code",
   "execution_count": 8,
   "id": "9b0ac574-b6c4-4e77-bdbf-4ad08565ea0b",
   "metadata": {},
   "outputs": [
    {
     "name": "stdout",
     "output_type": "stream",
     "text": [
      "(300000, 68)\n",
      "(300000, 1)\n",
      "<class 'pandas.core.frame.DataFrame'>\n",
      "RangeIndex: 300000 entries, 0 to 299999\n",
      "Data columns (total 68 columns):\n",
      " #   Column              Non-Null Count   Dtype  \n",
      "---  ------              --------------   -----  \n",
      " 0   cont0               300000 non-null  float64\n",
      " 1   cont1               300000 non-null  float64\n",
      " 2   cont2               300000 non-null  float64\n",
      " 3   cont3               300000 non-null  float64\n",
      " 4   cont4               300000 non-null  float64\n",
      " 5   cont5               300000 non-null  float64\n",
      " 6   cont6               300000 non-null  float64\n",
      " 7   cont7               300000 non-null  float64\n",
      " 8   cont8               300000 non-null  float64\n",
      " 9   cont9               300000 non-null  float64\n",
      " 10  cont10              300000 non-null  float64\n",
      " 11  cat0                300000 non-null  int64  \n",
      " 12  cat1                300000 non-null  int64  \n",
      " 13  cat2                300000 non-null  int64  \n",
      " 14  cat3                300000 non-null  int64  \n",
      " 15  cat4                300000 non-null  int64  \n",
      " 16  cat5                300000 non-null  int64  \n",
      " 17  cat6                300000 non-null  int64  \n",
      " 18  cat7                300000 non-null  int64  \n",
      " 19  cat8                300000 non-null  int64  \n",
      " 20  cat9                300000 non-null  int64  \n",
      " 21  cat10               300000 non-null  int64  \n",
      " 22  cat11               300000 non-null  int64  \n",
      " 23  cat12               300000 non-null  int64  \n",
      " 24  cat13               300000 non-null  int64  \n",
      " 25  cat14               300000 non-null  int64  \n",
      " 26  cat15               300000 non-null  int64  \n",
      " 27  cat16               300000 non-null  int64  \n",
      " 28  cat17               300000 non-null  int64  \n",
      " 29  cat18               300000 non-null  int64  \n",
      " 30  cat9cat2T           300000 non-null  int64  \n",
      " 31  cat9cat2M           300000 non-null  int64  \n",
      " 32  cat15cat16T         300000 non-null  int64  \n",
      " 33  cat15cat17T         300000 non-null  int64  \n",
      " 34  cat15cat18T         300000 non-null  int64  \n",
      " 35  cat16cat17T         300000 non-null  int64  \n",
      " 36  cat16cat18T         300000 non-null  int64  \n",
      " 37  cat17cat18T         300000 non-null  int64  \n",
      " 38  cat15cat16M         300000 non-null  int64  \n",
      " 39  cat15cat17M         300000 non-null  int64  \n",
      " 40  cat15cat18M         300000 non-null  int64  \n",
      " 41  cat16cat17M         300000 non-null  int64  \n",
      " 42  cat16cat18M         300000 non-null  int64  \n",
      " 43  cat17cat18M         300000 non-null  int64  \n",
      " 44  cat0cat11T          300000 non-null  int64  \n",
      " 45  cat0cat12T          300000 non-null  int64  \n",
      " 46  cat0cat13T          300000 non-null  int64  \n",
      " 47  cat0cat14T          300000 non-null  int64  \n",
      " 48  cat11cat12T         300000 non-null  int64  \n",
      " 49  cat11cat13T         300000 non-null  int64  \n",
      " 50  cat11cat14T         300000 non-null  int64  \n",
      " 51  cat12cat13T         300000 non-null  int64  \n",
      " 52  cat12cat14T         300000 non-null  int64  \n",
      " 53  cat13cat14T         300000 non-null  int64  \n",
      " 54  cat0cat11M          300000 non-null  int64  \n",
      " 55  cat0cat12M          300000 non-null  int64  \n",
      " 56  cat0cat13M          300000 non-null  int64  \n",
      " 57  cat0cat14M          300000 non-null  int64  \n",
      " 58  cat11cat12M         300000 non-null  int64  \n",
      " 59  cat11cat13M         300000 non-null  int64  \n",
      " 60  cat11cat14M         300000 non-null  int64  \n",
      " 61  cat12cat13M         300000 non-null  int64  \n",
      " 62  cat12cat14M         300000 non-null  int64  \n",
      " 63  cat13cat14M         300000 non-null  int64  \n",
      " 64  cat15_16TotalTotal  300000 non-null  int64  \n",
      " 65  cat15_16MulTotal    300000 non-null  int64  \n",
      " 66  cat11_14TotalTotal  300000 non-null  int64  \n",
      " 67  cat11_14MulTotal    300000 non-null  int64  \n",
      "dtypes: float64(11), int64(57)\n",
      "memory usage: 155.6 MB\n",
      "None\n",
      "<class 'pandas.core.frame.DataFrame'>\n",
      "RangeIndex: 300000 entries, 0 to 299999\n",
      "Data columns (total 1 columns):\n",
      " #   Column  Non-Null Count   Dtype\n",
      "---  ------  --------------   -----\n",
      " 0   target  300000 non-null  int64\n",
      "dtypes: int64(1)\n",
      "memory usage: 2.3 MB\n",
      "None\n"
     ]
    }
   ],
   "source": [
    "print(X.shape)\n",
    "print(y.shape)\n",
    "print(X.info())\n",
    "print(y.info())\n"
   ]
  },
  {
   "cell_type": "code",
   "execution_count": 17,
   "id": "8dcbcbbe-95a0-434e-9716-ee3871ccaeb8",
   "metadata": {},
   "outputs": [
    {
     "name": "stdout",
     "output_type": "stream",
     "text": [
      "Accuracy:  0.846\n",
      "\n",
      "ROC Curve\n",
      "<sklearn.metrics._plot.roc_curve.RocCurveDisplay object at 0x0000018AAB8D2C10>\n",
      "\n",
      "Confusion Matrix\n"
     ]
    },
    {
     "name": "stderr",
     "output_type": "stream",
     "text": [
      "E:\\Python\\Anaconda\\lib\\site-packages\\sklearn\\utils\\deprecation.py:87: FutureWarning: Function plot_roc_curve is deprecated; Function :func:`plot_roc_curve` is deprecated in 1.0 and will be removed in 1.2. Use one of the class methods: :meth:`sklearn.metric.RocCurveDisplay.from_predictions` or :meth:`sklearn.metric.RocCurveDisplay.from_estimator`.\n",
      "  warnings.warn(msg, category=FutureWarning)\n",
      "E:\\Python\\Anaconda\\lib\\site-packages\\sklearn\\utils\\deprecation.py:87: FutureWarning: Function plot_confusion_matrix is deprecated; Function `plot_confusion_matrix` is deprecated in 1.0 and will be removed in 1.2. Use one of the class methods: ConfusionMatrixDisplay.from_predictions or ConfusionMatrixDisplay.from_estimator.\n",
      "  warnings.warn(msg, category=FutureWarning)\n"
     ]
    },
    {
     "name": "stdout",
     "output_type": "stream",
     "text": [
      "<sklearn.metrics._plot.confusion_matrix.ConfusionMatrixDisplay object at 0x0000018AAC081DF0>\n"
     ]
    },
    {
     "data": {
      "image/png": "[encoded data removed]",
      "text/plain": [
       "<Figure size 432x288 with 1 Axes>"
      ]
     },
     "metadata": {
      "needs_background": "light"
     },
     "output_type": "display_data"
    },
    {
     "data": {
      "image/png": "[encoded data removed]",
      "text/plain": [
       "<Figure size 432x288 with 2 Axes>"
      ]
     },
     "metadata": {
      "needs_background": "light"
     },
     "output_type": "display_data"
    }
   ],
   "source": [
    "import matplotlib.pyplot as plt\n",
    "import xgboost as xgb\n",
    "from sklearn.metrics import accuracy_score # dane są nisko niezbalansowane przez co powinniśmy rozpatrzyć losowanie warstwowe\n",
    "from sklearn.metrics import plot_roc_curve\n",
    "from sklearn.metrics import plot_confusion_matrix\n",
    "from sklearn.model_selection import train_test_split\n",
    "from sklearn.metrics import auc\n",
    "\n",
    "# dzielimy nasz zbiór na treningowy oraz testowy. Poza tym pamiętajmy, że mamy do dyspozycji zbiór walidacyjny około 200k rekordów\n",
    "# ponieważ wybór proporcji próbki na uczącą i walidacyjną może wpłynąć na jakość modelu, powinniśmy rozważyć wrzucenie tego \n",
    "# parametru jako elementu optymalizacji hiperparametrów\n",
    "\n",
    "X_train, X_test, y_train, y_test = train_test_split(X, y, test_size = 0.2, shuffle=True, random_state=128262)\n",
    "\n",
    "# inicjalizujemy model \n",
    "\n",
    "xgb_clf = xgb.XGBClassifier(max_depth=3, n_estimators=100,\n",
    "                            objective='binary:logistic', booster='gbtree',\n",
    "                            n_jobs=2, random_state=1)\n",
    "\n",
    "# uczymy model, korzystamy z API sklearn\n",
    "xgb_clf.fit(X_train, y_train)\n",
    "\n",
    "# przeliczamy skoringi na zbiorze testowym aby sprawdzić jakość modelu w rozumieniu interesujących mnie miar\n",
    "\n",
    "y_hat = xgb_clf.predict(X_test)\n",
    "\n",
    "print(\"Accuracy: \", np.round(accuracy_score(y_test, y_hat), 3))\n",
    "print(\"\\nROC Curve\")\n",
    "print(plot_roc_curve(xgb_clf, X_test, y_test))\n",
    "print(\"wartość parametru Gini dla tego modelu to:\", 2*0.89-1) # Gini = 2*AUC-1\n",
    "print(\"\\nConfusion Matrix\")\n",
    "print(plot_confusion_matrix(xgb_clf, X_test, y_test))\n",
    "plt.show()"
   ]
  },
  {
   "cell_type": "code",
   "execution_count": 24,
   "id": "87102327-a6f0-47a7-a9b1-5a086baa271c",
   "metadata": {},
   "outputs": [
    {
     "name": "stdout",
     "output_type": "stream",
     "text": [
      "wartość parametru Gini dla tego modelu to: 0.78\n"
     ]
    }
   ],
   "source": [
    "print(\"wartość parametru Gini dla tego modelu to:\", 2*0.89-1)\n",
    "\n"
   ]
  }
 ],
 "metadata": {
  "kernelspec": {
   "display_name": "Python 3 (ipykernel)",
   "language": "python",
   "name": "python3"
  },
  "language_info": {
   "codemirror_mode": {
    "name": "ipython",
    "version": 3
   },
   "file_extension": ".py",
   "mimetype": "text/x-python",
   "name": "python",
   "nbconvert_exporter": "python",
   "pygments_lexer": "ipython3",
   "version": "3.9.7"
  }
 },
 "nbformat": 4,
 "nbformat_minor": 5
}
