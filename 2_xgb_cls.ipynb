{
 "cells": [
  {
   "cell_type": "markdown",
   "id": "2fb00bf6-ec43-422c-aede-8e5f244ec123",
   "metadata": {},
   "source": [
    "Pierwsza część kodu dotycząca oczyszczeniu danych znajduje się w pliku 1"
   ]
  }
 ],
 "metadata": {
  "kernelspec": {
   "display_name": "Python 3 (ipykernel)",
   "language": "python",
   "name": "python3"
  },
  "language_info": {
   "codemirror_mode": {
    "name": "ipython",
    "version": 3
   },
   "file_extension": ".py",
   "mimetype": "text/x-python",
   "name": "python",
   "nbconvert_exporter": "python",
   "pygments_lexer": "ipython3",
   "version": "3.9.7"
  }
 },
 "nbformat": 4,
 "nbformat_minor": 5
}
