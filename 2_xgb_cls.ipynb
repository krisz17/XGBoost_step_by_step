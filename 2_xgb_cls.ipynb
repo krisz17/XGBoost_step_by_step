{
 "cells": [
  {
   "cell_type": "markdown",
   "id": "2fb00bf6-ec43-422c-aede-8e5f244ec123",
   "metadata": {},
   "source": [
    "Pierwsza część kodu dotycząca oczyszczeniu danych znajduje się w pliku _1_EDA.ipynb_, w którym zostały obrobione dane do budowy modelu klasyfukacji binarnej. Dane są do pobrania z https://www.kaggle.com/c/tabular-playground-series-mar-2021/data"
   ]
  },
  {
   "cell_type": "code",
   "execution_count": null,
   "id": "b18efca2-7a79-4b0b-aa28-c6c21c425fa9",
   "metadata": {},
   "outputs": [],
   "source": [
    "# https://rukshanpramoditha.medium.com/unlock-the-power-of-xgboost-738536b9f36f\n",
    "\n"
   ]
  }
 ],
 "metadata": {
  "kernelspec": {
   "display_name": "Python 3 (ipykernel)",
   "language": "python",
   "name": "python3"
  },
  "language_info": {
   "codemirror_mode": {
    "name": "ipython",
    "version": 3
   },
   "file_extension": ".py",
   "mimetype": "text/x-python",
   "name": "python",
   "nbconvert_exporter": "python",
   "pygments_lexer": "ipython3",
   "version": "3.9.7"
  }
 },
 "nbformat": 4,
 "nbformat_minor": 5
}
